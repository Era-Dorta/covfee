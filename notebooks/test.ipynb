{
 "cells": [
  {
   "cell_type": "markdown",
   "metadata": {},
   "source": [
    "# TRANSFORM TESTING\n",
    "This notebook helps test transforms using local files as input"
   ]
  },
  {
   "cell_type": "code",
   "execution_count": null,
   "metadata": {},
   "outputs": [],
   "source": [
    "%load_ext autoreload\n",
    "%autoreload 2"
   ]
  },
  {
   "cell_type": "code",
   "execution_count": null,
   "metadata": {},
   "outputs": [],
   "source": [
    "import sys\n",
    "sys.path.append('..')"
   ]
  },
  {
   "cell_type": "code",
   "execution_count": null,
   "metadata": {},
   "outputs": [],
   "source": [
    "import numpy as np\n",
    "import scipy.signal"
   ]
  },
  {
   "cell_type": "code",
   "execution_count": null,
   "metadata": {},
   "outputs": [],
   "source": [
    "from autolight.streaming.pyaudio import PyaudioSource\n",
    "from autolight.transform.basic import BasicTransform"
   ]
  },
  {
   "cell_type": "code",
   "execution_count": null,
   "metadata": {},
   "outputs": [],
   "source": [
    "src = PyaudioSource(2, 44100, dtype='float32', channels=1)\n",
    "transform = BasicTransform()\n",
    "audio_gen = iter(src)"
   ]
  },
  {
   "cell_type": "code",
   "execution_count": null,
   "metadata": {},
   "outputs": [],
   "source": [
    "chunk = next(audio_gen)"
   ]
  },
  {
   "cell_type": "code",
   "execution_count": null,
   "metadata": {},
   "outputs": [],
   "source": [
    "data = np.frombuffer(chunk, dtype=np.float32)"
   ]
  },
  {
   "cell_type": "code",
   "execution_count": null,
   "metadata": {},
   "outputs": [],
   "source": [
    "fft = np.fft.rfft(data)"
   ]
  },
  {
   "cell_type": "code",
   "execution_count": null,
   "metadata": {},
   "outputs": [],
   "source": [
    "def compute_binned_psd(data, nfft=1024, nbins=10):\n",
    "    f,psd = signal.periodogram(x=data, nfft=nfft, return_onesided=True)\n",
    "    # bin the PSD\n",
    "    binned_psd = np.zeros(nbins)\n",
    "    # if the bins have power of two bounds\n",
    "    if 2**(nbins) == nfft:\n",
    "        binned_psd[0] = psd[1]\n",
    "        i = 1\n",
    "        j = 2\n",
    "        bin_size = 1\n",
    "        while bin_size <= nfft / 4:\n",
    "            for k in range(0,bin_size):\n",
    "                binned_psd[i] += psd[j]\n",
    "                j += 1\n",
    "            i += 1\n",
    "            bin_size *= 2\n",
    "            \n",
    "    else:\n",
    "        raise ValueError('not implemented')\n",
    "     \n",
    "    return binned_psd"
   ]
  },
  {
   "cell_type": "code",
   "execution_count": null,
   "metadata": {},
   "outputs": [],
   "source": [
    "psd = compute_binned_psd(data)"
   ]
  },
  {
   "cell_type": "code",
   "execution_count": null,
   "metadata": {},
   "outputs": [],
   "source": [
    "psd"
   ]
  },
  {
   "cell_type": "code",
   "execution_count": null,
   "metadata": {},
   "outputs": [],
   "source": [
    "import ipywidgets as widgets\n",
    "from traitlets import Unicode, Bytes, List, Int\n",
    "\n",
    "class HelloWidget(widgets.DOMWidget):\n",
    "    _view_name = Unicode('HelloView').tag(sync=True)\n",
    "    _view_module = Unicode('hello').tag(sync=True)\n",
    "    _view_module_version = Unicode('0.1.0').tag(sync=True)\n",
    "    \n",
    "    blocks = List(Int()).tag(sync=True) # end idx of each block\n",
    "    formats = List(Unicode()).tag(sync=True)    # format of the data chunk\n",
    "    data = Bytes().tag(sync=True)       # light data\n",
    "    def __init__(self, data, **kwargs):\n",
    "        super(HelloWidget, self).__init__(**kwargs)\n",
    "        self.play(data)\n",
    "    \n",
    "    def prepare(self, data):\n",
    "        '''\n",
    "        Prepares the scene by setting the blocks and formats traitlets\n",
    "        '''\n",
    "        l_blocks = list()\n",
    "        l_formats = list()\n",
    "        \n",
    "        for i,ld in enumerate(data):\n",
    "            l_blocks.append(len(ld))\n",
    "            \n",
    "            if ld.shape[1] == 1:\n",
    "                l_formates.append('w')\n",
    "            elif ld.shape[1] == 3:\n",
    "                l_formats.append('rgb')\n",
    "            else:\n",
    "                raise ValueError('invalid data shape')\n",
    "            \n",
    "            l_data.append(ld.tobytes())\n",
    "            \n",
    "        self.blocks = l_blocks\n",
    "        self.formats = l_formats\n",
    "        self.data = b''.join(l_data)\n",
    "    \n",
    "    def update(self, data):\n",
    "        l_data = list()\n",
    "        \n",
    "        for i,ld in enumerate(data):\n",
    "            l_data.append(ld.tobytes())\n",
    "        \n",
    "    def show(self, data):\n",
    "        self.prepare(data)\n",
    "        self.update(data)\n",
    "        \n",
    "    def play(self, data, fs=44100 / 1024): # array of numpy arrays\n",
    "        self.prepare(data)\n",
    "        \n",
    "        for d in data:\n",
    "            self.update(data)"
   ]
  },
  {
   "cell_type": "code",
   "execution_count": null,
   "metadata": {},
   "outputs": [],
   "source": [
    "w = HelloWidget(b'\\x00\\x00\\x00\\x00\\x00\\x00\\x00\\x00\\x04\\x00')"
   ]
  },
  {
   "cell_type": "code",
   "execution_count": null,
   "metadata": {},
   "outputs": [],
   "source": [
    "%%HTML\n",
    "<script src=\"http://localhost:8080/index.js\"></script>"
   ]
  },
  {
   "cell_type": "code",
   "execution_count": null,
   "metadata": {},
   "outputs": [],
   "source": [
    "w = HelloWidget(value=b'\\x00\\x00\\x00\\x00\\x00\\x00\\x00\\x00\\x04\\x00')\n",
    "w"
   ]
  },
  {
   "cell_type": "code",
   "execution_count": null,
   "metadata": {},
   "outputs": [],
   "source": [
    "w.value = b'\\x00\\x00\\x00\\x00\\x00\\x00\\x00\\x00\\x04\\x01'"
   ]
  },
  {
   "cell_type": "code",
   "execution_count": null,
   "metadata": {},
   "outputs": [],
   "source": []
  }
 ],
 "metadata": {
  "kernelspec": {
   "display_name": "Python 3",
   "language": "python",
   "name": "python3"
  },
  "language_info": {
   "codemirror_mode": {
    "name": "ipython",
    "version": 3
   },
   "file_extension": ".py",
   "mimetype": "text/x-python",
   "name": "python",
   "nbconvert_exporter": "python",
   "pygments_lexer": "ipython3",
   "version": "3.7.0"
  }
 },
 "nbformat": 4,
 "nbformat_minor": 4
}
